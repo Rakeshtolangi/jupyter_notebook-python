{
 "cells": [
  {
   "cell_type": "markdown",
   "id": "c85d0054",
   "metadata": {},
   "source": [
    "# This is the beginning of AI based project \n"
   ]
  },
  {
   "cell_type": "code",
   "execution_count": 1,
   "id": "39e16803",
   "metadata": {},
   "outputs": [
    {
     "name": "stdout",
     "output_type": "stream",
     "text": [
      "hello humans\n"
     ]
    }
   ],
   "source": [
    "print(\"hello humans\")"
   ]
  },
  {
   "cell_type": "markdown",
   "id": "fe930795",
   "metadata": {},
   "source": [
    "Python Syntax"
   ]
  },
  {
   "cell_type": "markdown",
   "id": "7642a1fa",
   "metadata": {},
   "source": [
    "# Indentation"
   ]
  },
  {
   "cell_type": "code",
   "execution_count": 1,
   "id": "ed16bf70",
   "metadata": {},
   "outputs": [
    {
     "name": "stdout",
     "output_type": "stream",
     "text": [
      "Five is greater than two\n"
     ]
    }
   ],
   "source": [
    "if 5 > 2:\n",
    "    print(\"Five is greater than two\")"
   ]
  },
  {
   "cell_type": "markdown",
   "id": "fb7a5a0a",
   "metadata": {},
   "source": [
    "# variables"
   ]
  },
  {
   "cell_type": "code",
   "execution_count": 2,
   "id": "08128093",
   "metadata": {},
   "outputs": [],
   "source": [
    "x = 5\n",
    "y = \"Hello, World!\""
   ]
  },
  {
   "cell_type": "code",
   "execution_count": 4,
   "id": "3c5f7b79",
   "metadata": {},
   "outputs": [
    {
     "ename": "TypeError",
     "evalue": "unsupported operand type(s) for +: 'int' and 'str'",
     "output_type": "error",
     "traceback": [
      "\u001b[1;31m---------------------------------------------------------------------------\u001b[0m",
      "\u001b[1;31mTypeError\u001b[0m                                 Traceback (most recent call last)",
      "\u001b[1;32mC:\\Users\\NEWSAJ~1\\AppData\\Local\\Temp/ipykernel_6912/3598954175.py\u001b[0m in \u001b[0;36m<module>\u001b[1;34m\u001b[0m\n\u001b[1;32m----> 1\u001b[1;33m \u001b[0mprint\u001b[0m\u001b[1;33m(\u001b[0m\u001b[0mx\u001b[0m \u001b[1;33m+\u001b[0m \u001b[0my\u001b[0m\u001b[1;33m)\u001b[0m\u001b[1;33m\u001b[0m\u001b[1;33m\u001b[0m\u001b[0m\n\u001b[0m",
      "\u001b[1;31mTypeError\u001b[0m: unsupported operand type(s) for +: 'int' and 'str'"
     ]
    }
   ],
   "source": [
    "print(x + y)\n",
    "\n",
    "#This is a comment."
   ]
  },
  {
   "cell_type": "markdown",
   "id": "b2e7f3d6",
   "metadata": {},
   "source": [
    "# Casting\n",
    "\n",
    "If you want to specify the data type of a variable, this can be done with casting."
   ]
  },
  {
   "cell_type": "code",
   "execution_count": 5,
   "id": "c0f04c89",
   "metadata": {},
   "outputs": [],
   "source": [
    "x = str(3)   # x will be '3'\n",
    "y = int(3)   # y will be 3\n",
    "z = float(3) # z will be 3.0"
   ]
  },
  {
   "cell_type": "code",
   "execution_count": 7,
   "id": "39933223",
   "metadata": {},
   "outputs": [
    {
     "name": "stdout",
     "output_type": "stream",
     "text": [
      "<class 'str'>\n",
      "<class 'int'>\n",
      "<class 'float'>\n"
     ]
    }
   ],
   "source": [
    "print(type(x))\n",
    "print(type(y))\n",
    "print(type(z))"
   ]
  },
  {
   "cell_type": "markdown",
   "id": "f70dc246",
   "metadata": {},
   "source": [
    "Case-sensitive\n",
    "\n",
    "variable names are case-sensitive"
   ]
  },
  {
   "cell_type": "code",
   "execution_count": 8,
   "id": "2c5ce6ed",
   "metadata": {},
   "outputs": [],
   "source": [
    "a = 4\n",
    "A = \"salary\"\n",
    "# A will not overwrite a"
   ]
  },
  {
   "cell_type": "markdown",
   "id": "3647b3cb",
   "metadata": {},
   "source": [
    "# Variable naming"
   ]
  },
  {
   "cell_type": "markdown",
   "id": "05f671f0",
   "metadata": {},
   "source": [
    "myvar\n",
    "my_var\n",
    "_my_var\n",
    "myVar\n",
    "MYVar\n",
    "myvar2\n",
    "\n",
    "These are legal variable names you use as reference."
   ]
  },
  {
   "cell_type": "code",
   "execution_count": null,
   "id": "4ddf20a7",
   "metadata": {},
   "outputs": [],
   "source": []
  }
 ],
 "metadata": {
  "kernelspec": {
   "display_name": "Python 3 (ipykernel)",
   "language": "python",
   "name": "python3"
  },
  "language_info": {
   "codemirror_mode": {
    "name": "ipython",
    "version": 3
   },
   "file_extension": ".py",
   "mimetype": "text/x-python",
   "name": "python",
   "nbconvert_exporter": "python",
   "pygments_lexer": "ipython3",
   "version": "3.9.7"
  }
 },
 "nbformat": 4,
 "nbformat_minor": 5
}
