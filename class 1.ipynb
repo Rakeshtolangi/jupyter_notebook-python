{
 "cells": [
  {
   "cell_type": "markdown",
   "id": "1e08c597",
   "metadata": {},
   "source": [
    "# 1. Wap to find Square root of number"
   ]
  },
  {
   "cell_type": "code",
   "execution_count": 7,
   "id": "0ae558ed",
   "metadata": {},
   "outputs": [
    {
     "name": "stdout",
     "output_type": "stream",
     "text": [
      "Enter number to find square root:9\n",
      "3.0\n"
     ]
    }
   ],
   "source": [
    "x = int(input(\"Enter number to find square root:\"))\n",
    "sqrt = x ** 0.5\n",
    "print(sqrt)"
   ]
  },
  {
   "cell_type": "markdown",
   "id": "85b8efc2",
   "metadata": {},
   "source": [
    "# 2. Wap to find area of triangle "
   ]
  },
  {
   "cell_type": "code",
   "execution_count": 20,
   "id": "eb719ced",
   "metadata": {},
   "outputs": [
    {
     "name": "stdout",
     "output_type": "stream",
     "text": [
      "the area of triangle is 9.92\n"
     ]
    }
   ],
   "source": [
    "#s = (a+b+c)/2\n",
    "#area = √(s(s-a)*(s-b)*(s-c))\n",
    "\n",
    "a = 4\n",
    "b = 5\n",
    "c = 6\n",
    "\n",
    "#inputs from the user\n",
    "# a = float(input(\"Enter first side of triangle: \"))\n",
    "# b = float(input(\"Eneter second side of triangle: \"))\n",
    "# c = float (input(\"Enter third side of triangle: \"))\n",
    "\n",
    "# s is semi-parameter of the triangle\n",
    "s = (a + b + c) / 2\n",
    "\n",
    "#area of triangle \n",
    "a = (s*(s-a)*(s-b)*(s-c))**0.5\n",
    "print(\"the area of triangle is %0.2f\" %a) #THis is yet to be known\n"
   ]
  },
  {
   "cell_type": "markdown",
   "id": "a88eb5a5",
   "metadata": {},
   "source": [
    "%0.2f\n",
    "“print” treats the % as a special character you need to add, so it can know, that when you type “f”, the number (result) that will be printed will be a floating point type, and the “.2” tells your “print” to print only the first 2 digits after the point."
   ]
  },
  {
   "cell_type": "markdown",
   "id": "99eba7a4",
   "metadata": {},
   "source": [
    "# 3. WAP to convert KM to miles"
   ]
  },
  {
   "cell_type": "code",
   "execution_count": 27,
   "id": "7105a73f",
   "metadata": {},
   "outputs": [
    {
     "name": "stdout",
     "output_type": "stream",
     "text": [
      "Enter number to convert KM to miles: 9\n",
      "9.0km is 5.5953in miles\n"
     ]
    }
   ],
   "source": [
    "x = float(input(\"Enter number to convert KM to miles: \"))\n",
    "mile = x * 0.6217\n",
    "print(f\"{x}km is {mile}in miles\")"
   ]
  },
  {
   "cell_type": "markdown",
   "id": "2f600ba0",
   "metadata": {},
   "source": [
    "# 4. WAP that takes floating values from users & calculate the time to drive & flight time.\n",
    "\n",
    "Note: time speed of flight = 40 km/hrs\n",
    "            time speed of car = 70 km/hrs\n",
    "            \n",
    " Distance  = Speed * Time\n",
    "   Time = Distance / Speed\n",
    "Speed = Distance / Time"
   ]
  },
  {
   "cell_type": "markdown",
   "id": "8c55e333",
   "metadata": {},
   "source": [
    "distance is taken from user as an input \n",
    "speed is given in the question\n",
    "find out the time of drive and flight"
   ]
  },
  {
   "cell_type": "code",
   "execution_count": 29,
   "id": "2a918911",
   "metadata": {},
   "outputs": [
    {
     "name": "stdout",
     "output_type": "stream",
     "text": [
      "Enter the distance you want to cover by flight: 50\n"
     ]
    },
    {
     "ename": "TypeError",
     "evalue": "not all arguments converted during string formatting",
     "output_type": "error",
     "traceback": [
      "\u001b[1;31m---------------------------------------------------------------------------\u001b[0m",
      "\u001b[1;31mTypeError\u001b[0m                                 Traceback (most recent call last)",
      "\u001b[1;32mC:\\Users\\NEWSAJ~1\\AppData\\Local\\Temp/ipykernel_10096/2517328182.py\u001b[0m in \u001b[0;36m<module>\u001b[1;34m\u001b[0m\n\u001b[0;32m      2\u001b[0m \u001b[0mspeed_flight\u001b[0m \u001b[1;33m=\u001b[0m \u001b[0mfloat\u001b[0m\u001b[1;33m(\u001b[0m\u001b[1;36m40\u001b[0m\u001b[1;33m)\u001b[0m\u001b[1;33m\u001b[0m\u001b[1;33m\u001b[0m\u001b[0m\n\u001b[0;32m      3\u001b[0m \u001b[0mtime\u001b[0m \u001b[1;33m=\u001b[0m \u001b[0mdis_flight\u001b[0m\u001b[1;33m/\u001b[0m\u001b[0mspeed_flight\u001b[0m\u001b[1;33m\u001b[0m\u001b[1;33m\u001b[0m\u001b[0m\n\u001b[1;32m----> 4\u001b[1;33m \u001b[0mprint\u001b[0m\u001b[1;33m(\u001b[0m\u001b[1;34mf\"The time taken by flight to cover {dis_flight}distance in {speed_flight}km/hrs is: \"\u001b[0m \u001b[1;33m%\u001b[0m\u001b[0mtime\u001b[0m\u001b[1;33m)\u001b[0m\u001b[1;33m\u001b[0m\u001b[1;33m\u001b[0m\u001b[0m\n\u001b[0m",
      "\u001b[1;31mTypeError\u001b[0m: not all arguments converted during string formatting"
     ]
    }
   ],
   "source": [
    "dis_flight = float(input(\"Enter the distance you want to cover by flight: \"))\n",
    "speed_flight = float(40)\n",
    "time = dis_flight/speed_flight\n",
    "print(f\"The time taken by flight to cover {dis_flight}distance in {speed_flight}km/hrs is: \" %time)\n"
   ]
  },
  {
   "cell_type": "markdown",
   "id": "6b7b5e63",
   "metadata": {},
   "source": [
    "# 5. WAP that reads a positive integer n, from user & display the sum. The sum of first n can be computed using \n",
    "sum = {n(n+1}1/2"
   ]
  },
  {
   "cell_type": "code",
   "execution_count": 32,
   "id": "c722ed2f",
   "metadata": {},
   "outputs": [
    {
     "name": "stdout",
     "output_type": "stream",
     "text": [
      "Enter any positive integer: 2\n",
      "The sum of first 2 positive number:  3.0\n"
     ]
    }
   ],
   "source": [
    "n = int(input(\"Enter any positive integer: \"))\n",
    "sum = (n * ( n + 1 )) / 2\n",
    "print(\"The sum of first\", n, \"positive number: \", sum )"
   ]
  },
  {
   "cell_type": "markdown",
   "id": "997853ff",
   "metadata": {},
   "source": [
    "# 6. WAP to find whether the number is even"
   ]
  },
  {
   "cell_type": "code",
   "execution_count": 34,
   "id": "993aa39a",
   "metadata": {},
   "outputs": [
    {
     "name": "stdout",
     "output_type": "stream",
     "text": [
      "Enter any positive integer: 2\n",
      "Enter number 2 is even\n"
     ]
    }
   ],
   "source": [
    "x = int(input(\"Enter any positive integer: \"))\n",
    "\n",
    "if (x % 2 == 0):\n",
    "    print(\"Enter number\",x , \"is even\" )"
   ]
  },
  {
   "cell_type": "code",
   "execution_count": 36,
   "id": "ece76a40",
   "metadata": {},
   "outputs": [
    {
     "name": "stdout",
     "output_type": "stream",
     "text": [
      "Enter any positive integer: 9\n",
      "Enter number 9 odd number.\n"
     ]
    }
   ],
   "source": [
    "x = int(input(\"Enter any positive integer: \"))\n",
    "\n",
    "if (x % 2 == 0):\n",
    "    print(\"Enter number\",x , \"is even\" )\n",
    "else:\n",
    "    print(\"Enter number\", x, \"odd number.\")"
   ]
  },
  {
   "cell_type": "markdown",
   "id": "c69e44f0",
   "metadata": {},
   "source": [
    "# 7. WAP that classify the percentage as destinatiion, 1st, 2nd, 3rd division & fail."
   ]
  },
  {
   "cell_type": "code",
   "execution_count": null,
   "id": "4ddd630c",
   "metadata": {},
   "outputs": [],
   "source": [
    "eng = float(input(\"Enter marks: \"))\n",
    "nep = float(input(\"Enter marks: \"))\n",
    "maths = float(input(\"Enter marks: \"))\n",
    "social = float(input(\"Enter marks: \"))\n",
    "science = float(input(\"Enter marks: \"))\n",
    "\n",
    "sum = eng + nep + maths + social + science\n",
    "\n",
    "print(sum)"
   ]
  },
  {
   "cell_type": "code",
   "execution_count": null,
   "id": "268748f5",
   "metadata": {},
   "outputs": [],
   "source": []
  }
 ],
 "metadata": {
  "kernelspec": {
   "display_name": "Python 3 (ipykernel)",
   "language": "python",
   "name": "python3"
  },
  "language_info": {
   "codemirror_mode": {
    "name": "ipython",
    "version": 3
   },
   "file_extension": ".py",
   "mimetype": "text/x-python",
   "name": "python",
   "nbconvert_exporter": "python",
   "pygments_lexer": "ipython3",
   "version": "3.9.7"
  }
 },
 "nbformat": 4,
 "nbformat_minor": 5
}
